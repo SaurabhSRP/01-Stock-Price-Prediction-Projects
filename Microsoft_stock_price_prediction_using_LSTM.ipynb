{
  "nbformat": 4,
  "nbformat_minor": 0,
  "metadata": {
    "colab": {
      "provenance": [],
      "collapsed_sections": [],
      "authorship_tag": "ABX9TyP5FZmiaJm+Exgbfl7WdkEc",
      "include_colab_link": true
    },
    "kernelspec": {
      "name": "python3",
      "display_name": "Python 3"
    },
    "language_info": {
      "name": "python"
    }
  },
  "cells": [
    {
      "cell_type": "markdown",
      "metadata": {
        "id": "view-in-github",
        "colab_type": "text"
      },
      "source": [
        "<a href=\"https://colab.research.google.com/github/SaurabhSRP/Stock-Price-Prediction-Projects/blob/main/Microsoft_stock_price_prediction_using_LSTM.ipynb\" target=\"_parent\"><img src=\"https://colab.research.google.com/assets/colab-badge.svg\" alt=\"Open In Colab\"/></a>"
      ]
    },
    {
      "cell_type": "code",
      "execution_count": null,
      "metadata": {
        "colab": {
          "base_uri": "https://localhost:8080/"
        },
        "id": "I4UFsZ7d8Eg-",
        "outputId": "49675558-c3d3-47c1-eeb7-a56e3a839550"
      },
      "outputs": [
        {
          "output_type": "stream",
          "name": "stdout",
          "text": [
            "Looking in indexes: https://pypi.org/simple, https://us-python.pkg.dev/colab-wheels/public/simple/\n",
            "Collecting yfinance\n",
            "  Downloading yfinance-0.1.77-py2.py3-none-any.whl (28 kB)\n",
            "Requirement already satisfied: pandas>=0.24.0 in /usr/local/lib/python3.7/dist-packages (from yfinance) (1.3.5)\n",
            "Requirement already satisfied: appdirs>=1.4.4 in /usr/local/lib/python3.7/dist-packages (from yfinance) (1.4.4)\n",
            "Collecting requests>=2.26\n",
            "  Downloading requests-2.28.1-py3-none-any.whl (62 kB)\n",
            "\u001b[K     |████████████████████████████████| 62 kB 1.2 MB/s \n",
            "\u001b[?25hRequirement already satisfied: numpy>=1.15 in /usr/local/lib/python3.7/dist-packages (from yfinance) (1.21.6)\n",
            "Requirement already satisfied: lxml>=4.5.1 in /usr/local/lib/python3.7/dist-packages (from yfinance) (4.9.1)\n",
            "Requirement already satisfied: multitasking>=0.0.7 in /usr/local/lib/python3.7/dist-packages (from yfinance) (0.0.11)\n",
            "Requirement already satisfied: pytz>=2017.3 in /usr/local/lib/python3.7/dist-packages (from pandas>=0.24.0->yfinance) (2022.4)\n",
            "Requirement already satisfied: python-dateutil>=2.7.3 in /usr/local/lib/python3.7/dist-packages (from pandas>=0.24.0->yfinance) (2.8.2)\n",
            "Requirement already satisfied: six>=1.5 in /usr/local/lib/python3.7/dist-packages (from python-dateutil>=2.7.3->pandas>=0.24.0->yfinance) (1.15.0)\n",
            "Requirement already satisfied: charset-normalizer<3,>=2 in /usr/local/lib/python3.7/dist-packages (from requests>=2.26->yfinance) (2.1.1)\n",
            "Requirement already satisfied: urllib3<1.27,>=1.21.1 in /usr/local/lib/python3.7/dist-packages (from requests>=2.26->yfinance) (1.24.3)\n",
            "Requirement already satisfied: idna<4,>=2.5 in /usr/local/lib/python3.7/dist-packages (from requests>=2.26->yfinance) (2.10)\n",
            "Requirement already satisfied: certifi>=2017.4.17 in /usr/local/lib/python3.7/dist-packages (from requests>=2.26->yfinance) (2022.9.24)\n",
            "Installing collected packages: requests, yfinance\n",
            "  Attempting uninstall: requests\n",
            "    Found existing installation: requests 2.23.0\n",
            "    Uninstalling requests-2.23.0:\n",
            "      Successfully uninstalled requests-2.23.0\n",
            "Successfully installed requests-2.28.1 yfinance-0.1.77\n"
          ]
        }
      ],
      "source": [
        "pip install yfinance"
      ]
    },
    {
      "cell_type": "code",
      "source": [
        "#import all libraries\n",
        "import math \n",
        "import yfinance as yf\n",
        "import numpy as np\n",
        "import pandas as pd\n",
        "\n",
        "from sklearn.preprocessing import MinMaxScaler\n",
        "from keras.models import Sequential\n",
        "from keras.layers import Dense,LSTM\n",
        "import matplotlib.pyplot as plt\n",
        "plt.style.use('fivethirtyeight')"
      ],
      "metadata": {
        "id": "oEV36dBV8Lkb"
      },
      "execution_count": null,
      "outputs": []
    },
    {
      "cell_type": "code",
      "source": [
        "df=yf.download('MSFT',start='2017-01-01',end='2022-01-01')\n",
        "df"
      ],
      "metadata": {
        "colab": {
          "base_uri": "https://localhost:8080/",
          "height": 472
        },
        "id": "LPZViRzi8emD",
        "outputId": "60d1253c-2a4a-455a-e0c7-c422f139d3d0"
      },
      "execution_count": null,
      "outputs": [
        {
          "output_type": "stream",
          "name": "stdout",
          "text": [
            "\r[*********************100%***********************]  1 of 1 completed\n"
          ]
        },
        {
          "output_type": "execute_result",
          "data": {
            "text/plain": [
              "                                 Open        High         Low       Close  \\\n",
              "Date                                                                        \n",
              "2017-01-03 00:00:00-05:00   62.790001   62.840000   62.130001   62.580002   \n",
              "2017-01-04 00:00:00-05:00   62.480000   62.750000   62.119999   62.299999   \n",
              "2017-01-05 00:00:00-05:00   62.189999   62.660000   62.029999   62.299999   \n",
              "2017-01-06 00:00:00-05:00   62.299999   63.150002   62.040001   62.840000   \n",
              "2017-01-09 00:00:00-05:00   62.759998   63.080002   62.540001   62.639999   \n",
              "...                               ...         ...         ...         ...   \n",
              "2021-12-27 00:00:00-05:00  335.459991  342.480011  335.429993  342.450012   \n",
              "2021-12-28 00:00:00-05:00  343.149994  343.809998  340.320007  341.250000   \n",
              "2021-12-29 00:00:00-05:00  341.299988  344.299988  339.679993  341.950012   \n",
              "2021-12-30 00:00:00-05:00  341.910004  343.130005  338.820007  339.320007   \n",
              "2021-12-31 00:00:00-05:00  338.510010  339.359985  335.850006  336.320007   \n",
              "\n",
              "                            Adj Close    Volume  \n",
              "Date                                             \n",
              "2017-01-03 00:00:00-05:00   57.807831  20694100  \n",
              "2017-01-04 00:00:00-05:00   57.549171  21340000  \n",
              "2017-01-05 00:00:00-05:00   57.549171  24876000  \n",
              "2017-01-06 00:00:00-05:00   58.047993  19922900  \n",
              "2017-01-09 00:00:00-05:00   57.863243  20382700  \n",
              "...                               ...       ...  \n",
              "2021-12-27 00:00:00-05:00  340.227112  19947000  \n",
              "2021-12-28 00:00:00-05:00  339.034882  15661500  \n",
              "2021-12-29 00:00:00-05:00  339.730377  15042000  \n",
              "2021-12-30 00:00:00-05:00  337.117401  15994500  \n",
              "2021-12-31 00:00:00-05:00  334.136902  18000800  \n",
              "\n",
              "[1259 rows x 6 columns]"
            ],
            "text/html": [
              "\n",
              "  <div id=\"df-8f09bff0-885f-4b50-82b5-fd10aa1c34b3\">\n",
              "    <div class=\"colab-df-container\">\n",
              "      <div>\n",
              "<style scoped>\n",
              "    .dataframe tbody tr th:only-of-type {\n",
              "        vertical-align: middle;\n",
              "    }\n",
              "\n",
              "    .dataframe tbody tr th {\n",
              "        vertical-align: top;\n",
              "    }\n",
              "\n",
              "    .dataframe thead th {\n",
              "        text-align: right;\n",
              "    }\n",
              "</style>\n",
              "<table border=\"1\" class=\"dataframe\">\n",
              "  <thead>\n",
              "    <tr style=\"text-align: right;\">\n",
              "      <th></th>\n",
              "      <th>Open</th>\n",
              "      <th>High</th>\n",
              "      <th>Low</th>\n",
              "      <th>Close</th>\n",
              "      <th>Adj Close</th>\n",
              "      <th>Volume</th>\n",
              "    </tr>\n",
              "    <tr>\n",
              "      <th>Date</th>\n",
              "      <th></th>\n",
              "      <th></th>\n",
              "      <th></th>\n",
              "      <th></th>\n",
              "      <th></th>\n",
              "      <th></th>\n",
              "    </tr>\n",
              "  </thead>\n",
              "  <tbody>\n",
              "    <tr>\n",
              "      <th>2017-01-03 00:00:00-05:00</th>\n",
              "      <td>62.790001</td>\n",
              "      <td>62.840000</td>\n",
              "      <td>62.130001</td>\n",
              "      <td>62.580002</td>\n",
              "      <td>57.807831</td>\n",
              "      <td>20694100</td>\n",
              "    </tr>\n",
              "    <tr>\n",
              "      <th>2017-01-04 00:00:00-05:00</th>\n",
              "      <td>62.480000</td>\n",
              "      <td>62.750000</td>\n",
              "      <td>62.119999</td>\n",
              "      <td>62.299999</td>\n",
              "      <td>57.549171</td>\n",
              "      <td>21340000</td>\n",
              "    </tr>\n",
              "    <tr>\n",
              "      <th>2017-01-05 00:00:00-05:00</th>\n",
              "      <td>62.189999</td>\n",
              "      <td>62.660000</td>\n",
              "      <td>62.029999</td>\n",
              "      <td>62.299999</td>\n",
              "      <td>57.549171</td>\n",
              "      <td>24876000</td>\n",
              "    </tr>\n",
              "    <tr>\n",
              "      <th>2017-01-06 00:00:00-05:00</th>\n",
              "      <td>62.299999</td>\n",
              "      <td>63.150002</td>\n",
              "      <td>62.040001</td>\n",
              "      <td>62.840000</td>\n",
              "      <td>58.047993</td>\n",
              "      <td>19922900</td>\n",
              "    </tr>\n",
              "    <tr>\n",
              "      <th>2017-01-09 00:00:00-05:00</th>\n",
              "      <td>62.759998</td>\n",
              "      <td>63.080002</td>\n",
              "      <td>62.540001</td>\n",
              "      <td>62.639999</td>\n",
              "      <td>57.863243</td>\n",
              "      <td>20382700</td>\n",
              "    </tr>\n",
              "    <tr>\n",
              "      <th>...</th>\n",
              "      <td>...</td>\n",
              "      <td>...</td>\n",
              "      <td>...</td>\n",
              "      <td>...</td>\n",
              "      <td>...</td>\n",
              "      <td>...</td>\n",
              "    </tr>\n",
              "    <tr>\n",
              "      <th>2021-12-27 00:00:00-05:00</th>\n",
              "      <td>335.459991</td>\n",
              "      <td>342.480011</td>\n",
              "      <td>335.429993</td>\n",
              "      <td>342.450012</td>\n",
              "      <td>340.227112</td>\n",
              "      <td>19947000</td>\n",
              "    </tr>\n",
              "    <tr>\n",
              "      <th>2021-12-28 00:00:00-05:00</th>\n",
              "      <td>343.149994</td>\n",
              "      <td>343.809998</td>\n",
              "      <td>340.320007</td>\n",
              "      <td>341.250000</td>\n",
              "      <td>339.034882</td>\n",
              "      <td>15661500</td>\n",
              "    </tr>\n",
              "    <tr>\n",
              "      <th>2021-12-29 00:00:00-05:00</th>\n",
              "      <td>341.299988</td>\n",
              "      <td>344.299988</td>\n",
              "      <td>339.679993</td>\n",
              "      <td>341.950012</td>\n",
              "      <td>339.730377</td>\n",
              "      <td>15042000</td>\n",
              "    </tr>\n",
              "    <tr>\n",
              "      <th>2021-12-30 00:00:00-05:00</th>\n",
              "      <td>341.910004</td>\n",
              "      <td>343.130005</td>\n",
              "      <td>338.820007</td>\n",
              "      <td>339.320007</td>\n",
              "      <td>337.117401</td>\n",
              "      <td>15994500</td>\n",
              "    </tr>\n",
              "    <tr>\n",
              "      <th>2021-12-31 00:00:00-05:00</th>\n",
              "      <td>338.510010</td>\n",
              "      <td>339.359985</td>\n",
              "      <td>335.850006</td>\n",
              "      <td>336.320007</td>\n",
              "      <td>334.136902</td>\n",
              "      <td>18000800</td>\n",
              "    </tr>\n",
              "  </tbody>\n",
              "</table>\n",
              "<p>1259 rows × 6 columns</p>\n",
              "</div>\n",
              "      <button class=\"colab-df-convert\" onclick=\"convertToInteractive('df-8f09bff0-885f-4b50-82b5-fd10aa1c34b3')\"\n",
              "              title=\"Convert this dataframe to an interactive table.\"\n",
              "              style=\"display:none;\">\n",
              "        \n",
              "  <svg xmlns=\"http://www.w3.org/2000/svg\" height=\"24px\"viewBox=\"0 0 24 24\"\n",
              "       width=\"24px\">\n",
              "    <path d=\"M0 0h24v24H0V0z\" fill=\"none\"/>\n",
              "    <path d=\"M18.56 5.44l.94 2.06.94-2.06 2.06-.94-2.06-.94-.94-2.06-.94 2.06-2.06.94zm-11 1L8.5 8.5l.94-2.06 2.06-.94-2.06-.94L8.5 2.5l-.94 2.06-2.06.94zm10 10l.94 2.06.94-2.06 2.06-.94-2.06-.94-.94-2.06-.94 2.06-2.06.94z\"/><path d=\"M17.41 7.96l-1.37-1.37c-.4-.4-.92-.59-1.43-.59-.52 0-1.04.2-1.43.59L10.3 9.45l-7.72 7.72c-.78.78-.78 2.05 0 2.83L4 21.41c.39.39.9.59 1.41.59.51 0 1.02-.2 1.41-.59l7.78-7.78 2.81-2.81c.8-.78.8-2.07 0-2.86zM5.41 20L4 18.59l7.72-7.72 1.47 1.35L5.41 20z\"/>\n",
              "  </svg>\n",
              "      </button>\n",
              "      \n",
              "  <style>\n",
              "    .colab-df-container {\n",
              "      display:flex;\n",
              "      flex-wrap:wrap;\n",
              "      gap: 12px;\n",
              "    }\n",
              "\n",
              "    .colab-df-convert {\n",
              "      background-color: #E8F0FE;\n",
              "      border: none;\n",
              "      border-radius: 50%;\n",
              "      cursor: pointer;\n",
              "      display: none;\n",
              "      fill: #1967D2;\n",
              "      height: 32px;\n",
              "      padding: 0 0 0 0;\n",
              "      width: 32px;\n",
              "    }\n",
              "\n",
              "    .colab-df-convert:hover {\n",
              "      background-color: #E2EBFA;\n",
              "      box-shadow: 0px 1px 2px rgba(60, 64, 67, 0.3), 0px 1px 3px 1px rgba(60, 64, 67, 0.15);\n",
              "      fill: #174EA6;\n",
              "    }\n",
              "\n",
              "    [theme=dark] .colab-df-convert {\n",
              "      background-color: #3B4455;\n",
              "      fill: #D2E3FC;\n",
              "    }\n",
              "\n",
              "    [theme=dark] .colab-df-convert:hover {\n",
              "      background-color: #434B5C;\n",
              "      box-shadow: 0px 1px 3px 1px rgba(0, 0, 0, 0.15);\n",
              "      filter: drop-shadow(0px 1px 2px rgba(0, 0, 0, 0.3));\n",
              "      fill: #FFFFFF;\n",
              "    }\n",
              "  </style>\n",
              "\n",
              "      <script>\n",
              "        const buttonEl =\n",
              "          document.querySelector('#df-8f09bff0-885f-4b50-82b5-fd10aa1c34b3 button.colab-df-convert');\n",
              "        buttonEl.style.display =\n",
              "          google.colab.kernel.accessAllowed ? 'block' : 'none';\n",
              "\n",
              "        async function convertToInteractive(key) {\n",
              "          const element = document.querySelector('#df-8f09bff0-885f-4b50-82b5-fd10aa1c34b3');\n",
              "          const dataTable =\n",
              "            await google.colab.kernel.invokeFunction('convertToInteractive',\n",
              "                                                     [key], {});\n",
              "          if (!dataTable) return;\n",
              "\n",
              "          const docLinkHtml = 'Like what you see? Visit the ' +\n",
              "            '<a target=\"_blank\" href=https://colab.research.google.com/notebooks/data_table.ipynb>data table notebook</a>'\n",
              "            + ' to learn more about interactive tables.';\n",
              "          element.innerHTML = '';\n",
              "          dataTable['output_type'] = 'display_data';\n",
              "          await google.colab.output.renderOutput(dataTable, element);\n",
              "          const docLink = document.createElement('div');\n",
              "          docLink.innerHTML = docLinkHtml;\n",
              "          element.appendChild(docLink);\n",
              "        }\n",
              "      </script>\n",
              "    </div>\n",
              "  </div>\n",
              "  "
            ]
          },
          "metadata": {},
          "execution_count": 9
        }
      ]
    },
    {
      "cell_type": "markdown",
      "source": [
        "#Visualise the Closing price of Micrsoft stock data"
      ],
      "metadata": {
        "id": "8Don6e4I82u0"
      }
    },
    {
      "cell_type": "code",
      "source": [
        "plt.figure(figsize=(16,8))\n",
        "plt.title(\"Close price of Microsoft stock\")\n",
        "plt.plot(df['Close'])\n",
        "plt.xlabel('Date',fontsize=18)\n",
        "plt.ylabel('Close price USD $',fontsize=18)"
      ],
      "metadata": {
        "colab": {
          "base_uri": "https://localhost:8080/",
          "height": 575
        },
        "id": "vGiZmx4X8rAX",
        "outputId": "4deb188b-c9c2-4795-f78b-2435407c8057"
      },
      "execution_count": null,
      "outputs": [
        {
          "output_type": "execute_result",
          "data": {
            "text/plain": [
              "Text(0, 0.5, 'Close price USD $')"
            ]
          },
          "metadata": {},
          "execution_count": 10
        },
        {
          "output_type": "display_data",
          "data": {
            "text/plain": [
              "<Figure size 1152x576 with 1 Axes>"
            ],
            "image/png": "[encoded data removed]"
          },
          "metadata": {}
        }
      ]
    },
    {
      "cell_type": "code",
      "source": [
        "##Create a new DataFrame for closing price\n",
        "data=df.filter(['Close'])\n",
        "##Convert the dataframe to a nummpy array\n",
        "dataset=data.values\n",
        "#Get the number of rows to train the model on using 80% of the data\n",
        "training_data_len= math.ceil( len(dataset)* .8)   #using math to round up\n",
        "\n",
        "training_data_len"
      ],
      "metadata": {
        "colab": {
          "base_uri": "https://localhost:8080/"
        },
        "id": "4JTwsJx39H09",
        "outputId": "3518e966-3b3e-4fe4-fe73-fabbe00f7ab4"
      },
      "execution_count": null,
      "outputs": [
        {
          "output_type": "execute_result",
          "data": {
            "text/plain": [
              "1008"
            ]
          },
          "metadata": {},
          "execution_count": 11
        }
      ]
    },
    {
      "cell_type": "markdown",
      "source": [
        "#MinMax scaling of the data for LSTM model"
      ],
      "metadata": {
        "id": "pZJyBE5SAUoM"
      }
    },
    {
      "cell_type": "code",
      "source": [
        "##Scale the data using MinMax\n",
        "scaler=MinMaxScaler(feature_range=(0,1))\n",
        "\n",
        "scaled_data = scaler.fit_transform(dataset)"
      ],
      "metadata": {
        "id": "R6rNUHlI-L-x"
      },
      "execution_count": null,
      "outputs": []
    },
    {
      "cell_type": "markdown",
      "source": [
        "##Create X_train and y_train data for our model"
      ],
      "metadata": {
        "id": "VBexokaJAgKs"
      }
    },
    {
      "cell_type": "code",
      "source": [
        "##Create training data set\n",
        "#Create the scaled training data set\n",
        "train_data=scaled_data[0:training_data_len, :]\n",
        "\n",
        "#split the data into x_train and y_train data sets\n",
        "X_train=[]\n",
        "y_train=[]\n",
        "\n",
        "for i in range(60,len(train_data)):\n",
        "  X_train.append(train_data[i-60:i, 0])\n",
        "  y_train.append(train_data[i, 0])\n",
        "\n"
      ],
      "metadata": {
        "id": "gPrDrmvbAeYs"
      },
      "execution_count": null,
      "outputs": []
    },
    {
      "cell_type": "code",
      "source": [
        "#Convert the X_train and y_train to numpy arrays\n",
        "X_train,y_train=np.array(X_train),np.array(y_train)"
      ],
      "metadata": {
        "id": "hWUv-E_gAprz"
      },
      "execution_count": null,
      "outputs": []
    },
    {
      "cell_type": "code",
      "source": [
        "X_train.shape"
      ],
      "metadata": {
        "colab": {
          "base_uri": "https://localhost:8080/"
        },
        "id": "z1P_vt3AAsfn",
        "outputId": "28ce114e-0d47-45a5-fb27-861b627dcbad"
      },
      "execution_count": null,
      "outputs": [
        {
          "output_type": "execute_result",
          "data": {
            "text/plain": [
              "(948, 60)"
            ]
          },
          "metadata": {},
          "execution_count": 15
        }
      ]
    },
    {
      "cell_type": "markdown",
      "source": [
        "##LSTM model requires Data in 3 dimension"
      ],
      "metadata": {
        "id": "EOgzMrJMA3HR"
      }
    },
    {
      "cell_type": "code",
      "source": [
        "##Reshape the data to (number of samples , no of timesteps, no of features=1 (only closing price is considered))\n",
        "X_train=np.reshape(X_train,(X_train.shape[0],X_train.shape[1],1))\n",
        "X_train.shape"
      ],
      "metadata": {
        "colab": {
          "base_uri": "https://localhost:8080/"
        },
        "id": "fVJ1u7FWAt5l",
        "outputId": "7f81b1f8-9d8d-47b3-dbbb-35268210492d"
      },
      "execution_count": null,
      "outputs": [
        {
          "output_type": "execute_result",
          "data": {
            "text/plain": [
              "(948, 60, 1)"
            ]
          },
          "metadata": {},
          "execution_count": 16
        }
      ]
    },
    {
      "cell_type": "markdown",
      "source": [
        "#Create the LSTM model"
      ],
      "metadata": {
        "id": "AbAe6F43BBJE"
      }
    },
    {
      "cell_type": "code",
      "source": [
        "model=Sequential()\n",
        "\n",
        "model.add(LSTM(50, return_sequences=True, input_shape=(X_train.shape[1],1))) #as this is the first layer we have to give input shape \n",
        "\n",
        "#Second layer\n",
        "model.add(LSTM(50,return_sequences=False)) \n",
        "\n",
        "model.add(Dense(25))\n",
        "model.add(Dense(1))"
      ],
      "metadata": {
        "id": "wMDkx4uHA-lM"
      },
      "execution_count": null,
      "outputs": []
    },
    {
      "cell_type": "code",
      "source": [
        "##Compile the model \n",
        "model.compile(optimizer='adam', loss='mean_squared_error')"
      ],
      "metadata": {
        "id": "y4ROQDC8BFn8"
      },
      "execution_count": null,
      "outputs": []
    },
    {
      "cell_type": "markdown",
      "source": [
        "#Train the model for 100 epochs"
      ],
      "metadata": {
        "id": "mMWPAjVpBMgt"
      }
    },
    {
      "cell_type": "code",
      "source": [
        "##Train the model\n",
        "model.fit(X_train,y_train,batch_size=32, epochs=100)"
      ],
      "metadata": {
        "colab": {
          "base_uri": "https://localhost:8080/"
        },
        "id": "G5SsAgngBK1Y",
        "outputId": "21efe21e-3f9a-41e5-8f9f-83e6525ff9e0"
      },
      "execution_count": null,
      "outputs": [
        {
          "output_type": "stream",
          "name": "stdout",
          "text": [
            "Epoch 1/100\n",
            "30/30 [==============================] - 8s 59ms/step - loss: 0.0105\n",
            "Epoch 2/100\n",
            "30/30 [==============================] - 2s 61ms/step - loss: 5.4733e-04\n",
            "Epoch 3/100\n",
            "30/30 [==============================] - 2s 57ms/step - loss: 3.6148e-04\n",
            "Epoch 4/100\n",
            "30/30 [==============================] - 2s 61ms/step - loss: 3.4218e-04\n",
            "Epoch 5/100\n",
            "30/30 [==============================] - 2s 61ms/step - loss: 3.1536e-04\n",
            "Epoch 6/100\n",
            "30/30 [==============================] - 3s 86ms/step - loss: 3.1531e-04\n",
            "Epoch 7/100\n",
            "30/30 [==============================] - 3s 89ms/step - loss: 3.0066e-04\n",
            "Epoch 8/100\n",
            "30/30 [==============================] - 3s 91ms/step - loss: 2.9257e-04\n",
            "Epoch 9/100\n",
            "30/30 [==============================] - 2s 56ms/step - loss: 3.2306e-04\n",
            "Epoch 10/100\n",
            "30/30 [==============================] - 2s 63ms/step - loss: 3.1741e-04\n",
            "Epoch 11/100\n",
            "30/30 [==============================] - 2s 79ms/step - loss: 2.8290e-04\n",
            "Epoch 12/100\n",
            "30/30 [==============================] - 2s 76ms/step - loss: 2.9423e-04\n",
            "Epoch 13/100\n",
            "30/30 [==============================] - 2s 61ms/step - loss: 3.0326e-04\n",
            "Epoch 14/100\n",
            "30/30 [==============================] - 2s 60ms/step - loss: 2.8724e-04\n",
            "Epoch 15/100\n",
            "30/30 [==============================] - 2s 62ms/step - loss: 2.6603e-04\n",
            "Epoch 16/100\n",
            "30/30 [==============================] - 2s 61ms/step - loss: 2.6691e-04\n",
            "Epoch 17/100\n",
            "30/30 [==============================] - 2s 61ms/step - loss: 2.7295e-04\n",
            "Epoch 18/100\n",
            "30/30 [==============================] - 2s 61ms/step - loss: 2.4887e-04\n",
            "Epoch 19/100\n",
            "30/30 [==============================] - 2s 60ms/step - loss: 2.9153e-04\n",
            "Epoch 20/100\n",
            "30/30 [==============================] - 2s 62ms/step - loss: 2.5239e-04\n",
            "Epoch 21/100\n",
            "30/30 [==============================] - 2s 62ms/step - loss: 2.4115e-04\n",
            "Epoch 22/100\n",
            "30/30 [==============================] - 2s 63ms/step - loss: 2.4711e-04\n",
            "Epoch 23/100\n",
            "30/30 [==============================] - 2s 61ms/step - loss: 2.7403e-04\n",
            "Epoch 24/100\n",
            "30/30 [==============================] - 2s 62ms/step - loss: 2.8922e-04\n",
            "Epoch 25/100\n",
            "30/30 [==============================] - 2s 59ms/step - loss: 2.4167e-04\n",
            "Epoch 26/100\n",
            "30/30 [==============================] - 2s 61ms/step - loss: 2.2353e-04\n",
            "Epoch 27/100\n",
            "30/30 [==============================] - 2s 64ms/step - loss: 2.1166e-04\n",
            "Epoch 28/100\n",
            "30/30 [==============================] - 2s 63ms/step - loss: 2.1376e-04\n",
            "Epoch 29/100\n",
            "30/30 [==============================] - 2s 63ms/step - loss: 2.5534e-04\n",
            "Epoch 30/100\n",
            "30/30 [==============================] - 2s 61ms/step - loss: 2.2249e-04\n",
            "Epoch 31/100\n",
            "30/30 [==============================] - 2s 62ms/step - loss: 2.0879e-04\n",
            "Epoch 32/100\n",
            "30/30 [==============================] - 2s 63ms/step - loss: 1.9734e-04\n",
            "Epoch 33/100\n",
            "30/30 [==============================] - 2s 57ms/step - loss: 1.9701e-04\n",
            "Epoch 34/100\n",
            "30/30 [==============================] - 2s 59ms/step - loss: 1.9775e-04\n",
            "Epoch 35/100\n",
            "30/30 [==============================] - 2s 63ms/step - loss: 2.3417e-04\n",
            "Epoch 36/100\n",
            "30/30 [==============================] - 2s 64ms/step - loss: 1.8614e-04\n",
            "Epoch 37/100\n",
            "30/30 [==============================] - 2s 64ms/step - loss: 1.9248e-04\n",
            "Epoch 38/100\n",
            "30/30 [==============================] - 2s 64ms/step - loss: 2.3978e-04\n",
            "Epoch 39/100\n",
            "30/30 [==============================] - 2s 64ms/step - loss: 1.7735e-04\n",
            "Epoch 40/100\n",
            "30/30 [==============================] - 2s 63ms/step - loss: 2.0037e-04\n",
            "Epoch 41/100\n",
            "30/30 [==============================] - 2s 64ms/step - loss: 1.7778e-04\n",
            "Epoch 42/100\n",
            "30/30 [==============================] - 2s 64ms/step - loss: 1.7174e-04\n",
            "Epoch 43/100\n",
            "30/30 [==============================] - 2s 62ms/step - loss: 1.7841e-04\n",
            "Epoch 44/100\n",
            "30/30 [==============================] - 2s 63ms/step - loss: 1.7977e-04\n",
            "Epoch 45/100\n",
            "30/30 [==============================] - 2s 62ms/step - loss: 2.1911e-04\n",
            "Epoch 46/100\n",
            "30/30 [==============================] - 2s 64ms/step - loss: 1.7546e-04\n",
            "Epoch 47/100\n",
            "30/30 [==============================] - 2s 65ms/step - loss: 1.7115e-04\n",
            "Epoch 48/100\n",
            "30/30 [==============================] - 2s 62ms/step - loss: 1.5309e-04\n",
            "Epoch 49/100\n",
            "30/30 [==============================] - 2s 63ms/step - loss: 1.5910e-04\n",
            "Epoch 50/100\n",
            "30/30 [==============================] - 2s 65ms/step - loss: 1.6722e-04\n",
            "Epoch 51/100\n",
            "30/30 [==============================] - 2s 60ms/step - loss: 1.7288e-04\n",
            "Epoch 52/100\n",
            "30/30 [==============================] - 2s 64ms/step - loss: 1.4576e-04\n",
            "Epoch 53/100\n",
            "30/30 [==============================] - 2s 64ms/step - loss: 1.9127e-04\n",
            "Epoch 54/100\n",
            "30/30 [==============================] - 2s 61ms/step - loss: 2.1816e-04\n",
            "Epoch 55/100\n",
            "30/30 [==============================] - 2s 58ms/step - loss: 1.5637e-04\n",
            "Epoch 56/100\n",
            "30/30 [==============================] - 2s 58ms/step - loss: 1.3949e-04\n",
            "Epoch 57/100\n",
            "30/30 [==============================] - 2s 58ms/step - loss: 1.3608e-04\n",
            "Epoch 58/100\n",
            "30/30 [==============================] - 2s 64ms/step - loss: 1.4545e-04\n",
            "Epoch 59/100\n",
            "30/30 [==============================] - 2s 62ms/step - loss: 1.3323e-04\n",
            "Epoch 60/100\n",
            "30/30 [==============================] - 2s 65ms/step - loss: 1.5215e-04\n",
            "Epoch 61/100\n",
            "30/30 [==============================] - 2s 64ms/step - loss: 1.3010e-04\n",
            "Epoch 62/100\n",
            "30/30 [==============================] - 2s 64ms/step - loss: 1.2504e-04\n",
            "Epoch 63/100\n",
            "30/30 [==============================] - 2s 64ms/step - loss: 1.3711e-04\n",
            "Epoch 64/100\n",
            "30/30 [==============================] - 2s 64ms/step - loss: 1.3571e-04\n",
            "Epoch 65/100\n",
            "30/30 [==============================] - 2s 82ms/step - loss: 1.2251e-04\n",
            "Epoch 66/100\n",
            "30/30 [==============================] - 2s 62ms/step - loss: 1.2293e-04\n",
            "Epoch 67/100\n",
            "30/30 [==============================] - 2s 61ms/step - loss: 1.2904e-04\n",
            "Epoch 68/100\n",
            "30/30 [==============================] - 2s 60ms/step - loss: 1.1991e-04\n",
            "Epoch 69/100\n",
            "30/30 [==============================] - 2s 63ms/step - loss: 1.3356e-04\n",
            "Epoch 70/100\n",
            "30/30 [==============================] - 2s 65ms/step - loss: 1.3320e-04\n",
            "Epoch 71/100\n",
            "30/30 [==============================] - 2s 64ms/step - loss: 1.2219e-04\n",
            "Epoch 72/100\n",
            "30/30 [==============================] - 2s 63ms/step - loss: 1.4551e-04\n",
            "Epoch 73/100\n",
            "30/30 [==============================] - 2s 66ms/step - loss: 1.2858e-04\n",
            "Epoch 74/100\n",
            "30/30 [==============================] - 2s 63ms/step - loss: 1.1906e-04\n",
            "Epoch 75/100\n",
            "30/30 [==============================] - 2s 63ms/step - loss: 1.1919e-04\n",
            "Epoch 76/100\n",
            "30/30 [==============================] - 2s 62ms/step - loss: 1.1775e-04\n",
            "Epoch 77/100\n",
            "30/30 [==============================] - 2s 61ms/step - loss: 1.1679e-04\n",
            "Epoch 78/100\n",
            "30/30 [==============================] - 2s 58ms/step - loss: 1.1712e-04\n",
            "Epoch 79/100\n",
            "30/30 [==============================] - 2s 64ms/step - loss: 1.1788e-04\n",
            "Epoch 80/100\n",
            "30/30 [==============================] - 2s 63ms/step - loss: 1.3202e-04\n",
            "Epoch 81/100\n",
            "30/30 [==============================] - 2s 64ms/step - loss: 1.3477e-04\n",
            "Epoch 82/100\n",
            "30/30 [==============================] - 2s 58ms/step - loss: 1.0475e-04\n",
            "Epoch 83/100\n",
            "30/30 [==============================] - 2s 61ms/step - loss: 1.1198e-04\n",
            "Epoch 84/100\n",
            "30/30 [==============================] - 2s 63ms/step - loss: 1.1829e-04\n",
            "Epoch 85/100\n",
            "30/30 [==============================] - 2s 66ms/step - loss: 1.0703e-04\n",
            "Epoch 86/100\n",
            "30/30 [==============================] - 2s 64ms/step - loss: 1.1499e-04\n",
            "Epoch 87/100\n",
            "30/30 [==============================] - 2s 61ms/step - loss: 1.2661e-04\n",
            "Epoch 88/100\n",
            "30/30 [==============================] - 2s 62ms/step - loss: 1.1377e-04\n",
            "Epoch 89/100\n",
            "30/30 [==============================] - 2s 62ms/step - loss: 1.1202e-04\n",
            "Epoch 90/100\n",
            "30/30 [==============================] - 2s 65ms/step - loss: 1.1623e-04\n",
            "Epoch 91/100\n",
            "30/30 [==============================] - 2s 64ms/step - loss: 1.1869e-04\n",
            "Epoch 92/100\n",
            "30/30 [==============================] - 2s 63ms/step - loss: 1.1746e-04\n",
            "Epoch 93/100\n",
            "30/30 [==============================] - 2s 63ms/step - loss: 1.0058e-04\n",
            "Epoch 94/100\n",
            "30/30 [==============================] - 2s 64ms/step - loss: 1.0798e-04\n",
            "Epoch 95/100\n",
            "30/30 [==============================] - 2s 63ms/step - loss: 1.0265e-04\n",
            "Epoch 96/100\n",
            "30/30 [==============================] - 2s 63ms/step - loss: 1.2320e-04\n",
            "Epoch 97/100\n",
            "30/30 [==============================] - 2s 64ms/step - loss: 9.8960e-05\n",
            "Epoch 98/100\n",
            "30/30 [==============================] - 2s 62ms/step - loss: 1.1618e-04\n",
            "Epoch 99/100\n",
            "30/30 [==============================] - 2s 57ms/step - loss: 1.0200e-04\n",
            "Epoch 100/100\n",
            "30/30 [==============================] - 2s 64ms/step - loss: 1.0606e-04\n"
          ]
        },
        {
          "output_type": "execute_result",
          "data": {
            "text/plain": [
              "<keras.callbacks.History at 0x7fd998bd5d50>"
            ]
          },
          "metadata": {},
          "execution_count": 20
        }
      ]
    },
    {
      "cell_type": "markdown",
      "source": [
        "#Prepare the test data for prediction"
      ],
      "metadata": {
        "id": "LywOC9T6BX0L"
      }
    },
    {
      "cell_type": "code",
      "source": [
        "##Create a new array containing scaled values from index 1542 to 2003\n",
        "test_data=scaled_data[training_data_len-60: , :]\n",
        "#Create the dataset X_test and y_test\n",
        "\n",
        "X_test=[]\n",
        "y_test=dataset[training_data_len:, : ]\n",
        "\n",
        "for i in range(60,len(test_data)):\n",
        "  X_test.append(test_data[i-60:i, 0])"
      ],
      "metadata": {
        "id": "ot-t6rufBT1i"
      },
      "execution_count": null,
      "outputs": []
    },
    {
      "cell_type": "code",
      "source": [
        "##COnvert the test data to a numpy array\n",
        "X_test=np.array(X_test)\n",
        "\n",
        "##Reshape to 3-Dim for LSTM\n",
        "X_test=np.reshape(X_test,(X_test.shape[0],X_test.shape[1], 1 ))"
      ],
      "metadata": {
        "id": "AptFu8b1CiA6"
      },
      "execution_count": null,
      "outputs": []
    },
    {
      "cell_type": "code",
      "source": [
        "X_test.shape"
      ],
      "metadata": {
        "colab": {
          "base_uri": "https://localhost:8080/"
        },
        "id": "rhxDx8VHClXi",
        "outputId": "79a63d66-fd78-47c0-90f6-a9edf2cffa3b"
      },
      "execution_count": null,
      "outputs": [
        {
          "output_type": "execute_result",
          "data": {
            "text/plain": [
              "(251, 60, 1)"
            ]
          },
          "metadata": {},
          "execution_count": 23
        }
      ]
    },
    {
      "cell_type": "markdown",
      "source": [
        "#Prediction"
      ],
      "metadata": {
        "id": "BqsUMyt4Db3S"
      }
    },
    {
      "cell_type": "code",
      "source": [
        "Predictions=model.predict(X_test)\n",
        "Predictions=scaler.inverse_transform(Predictions)"
      ],
      "metadata": {
        "id": "AbXE8W4OCm83"
      },
      "execution_count": null,
      "outputs": []
    },
    {
      "cell_type": "code",
      "source": [
        "Predictions.shape"
      ],
      "metadata": {
        "colab": {
          "base_uri": "https://localhost:8080/"
        },
        "id": "_pCk1IsNDflk",
        "outputId": "f2917f11-ec60-47d2-a365-1ef00579769a"
      },
      "execution_count": null,
      "outputs": [
        {
          "output_type": "execute_result",
          "data": {
            "text/plain": [
              "(251, 1)"
            ]
          },
          "metadata": {},
          "execution_count": 25
        }
      ]
    },
    {
      "cell_type": "code",
      "source": [
        "##We will use RMSE metrics for model evaluation\n",
        "rmse=np.sqrt(np.mean(Predictions - y_test)**2)\n",
        "rmse"
      ],
      "metadata": {
        "colab": {
          "base_uri": "https://localhost:8080/"
        },
        "id": "Pnxi2gsLDhJ8",
        "outputId": "cd2bcf68-3de9-4cf3-bda0-1db7fe7ccb91"
      },
      "execution_count": null,
      "outputs": [
        {
          "output_type": "execute_result",
          "data": {
            "text/plain": [
              "9.033740769344497"
            ]
          },
          "metadata": {},
          "execution_count": 26
        }
      ]
    },
    {
      "cell_type": "code",
      "source": [
        "##Plot the data\n",
        "train=data[ :training_data_len]\n",
        "valid=data[training_data_len: ]\n",
        "valid['Predictions']=Predictions\n",
        "\n",
        "##visualise the model\n",
        "plt.figure(figsize=(16,8))\n",
        "plt.title('Model')\n",
        "plt.xlabel('Date', fontsize=18)\n",
        "plt.ylabel('Close price of Apple', fontsize=18)\n",
        "plt.plot(train['Close'])\n",
        "plt.plot(valid[['Close','Predictions']])\n",
        "plt.legend(['Train','Validation data','Prediction'], loc='lower right')\n",
        "plt.show()"
      ],
      "metadata": {
        "colab": {
          "base_uri": "https://localhost:8080/",
          "height": 662
        },
        "id": "L5tL-CnZDoCL",
        "outputId": "5a3085c9-273c-40f0-ff4e-3919369f3737"
      },
      "execution_count": null,
      "outputs": [
        {
          "output_type": "stream",
          "name": "stderr",
          "text": [
            "/usr/local/lib/python3.7/dist-packages/ipykernel_launcher.py:4: SettingWithCopyWarning: \n",
            "A value is trying to be set on a copy of a slice from a DataFrame.\n",
            "Try using .loc[row_indexer,col_indexer] = value instead\n",
            "\n",
            "See the caveats in the documentation: https://pandas.pydata.org/pandas-docs/stable/user_guide/indexing.html#returning-a-view-versus-a-copy\n",
            "  after removing the cwd from sys.path.\n"
          ]
        },
        {
          "output_type": "display_data",
          "data": {
            "text/plain": [
              "<Figure size 1152x576 with 1 Axes>"
            ],
            "image/png": "[encoded data removed]"
          },
          "metadata": {}
        }
      ]
    },
    {
      "cell_type": "code",
      "source": [
        "##Lets compare the predicted and validation price\n",
        "valid"
      ],
      "metadata": {
        "id": "2U9e8ax6DsB4",
        "outputId": "e13ea879-b628-485b-d83e-c0a545da139f",
        "colab": {
          "base_uri": "https://localhost:8080/",
          "height": 455
        }
      },
      "execution_count": null,
      "outputs": [
        {
          "output_type": "execute_result",
          "data": {
            "text/plain": [
              "                                Close  Predictions\n",
              "Date                                              \n",
              "2021-01-05 00:00:00-05:00  217.899994   214.700516\n",
              "2021-01-06 00:00:00-05:00  212.250000   213.533203\n",
              "2021-01-07 00:00:00-05:00  218.289993   209.822922\n",
              "2021-01-08 00:00:00-05:00  219.619995   212.322601\n",
              "2021-01-11 00:00:00-05:00  217.490005   215.150772\n",
              "...                               ...          ...\n",
              "2021-12-27 00:00:00-05:00  342.450012   322.134949\n",
              "2021-12-28 00:00:00-05:00  341.250000   327.716888\n",
              "2021-12-29 00:00:00-05:00  341.950012   327.312439\n",
              "2021-12-30 00:00:00-05:00  339.320007   326.581146\n",
              "2021-12-31 00:00:00-05:00  336.320007   323.947357\n",
              "\n",
              "[251 rows x 2 columns]"
            ],
            "text/html": [
              "\n",
              "  <div id=\"df-16687137-54b5-40f7-bea9-7f4db7e74ac7\">\n",
              "    <div class=\"colab-df-container\">\n",
              "      <div>\n",
              "<style scoped>\n",
              "    .dataframe tbody tr th:only-of-type {\n",
              "        vertical-align: middle;\n",
              "    }\n",
              "\n",
              "    .dataframe tbody tr th {\n",
              "        vertical-align: top;\n",
              "    }\n",
              "\n",
              "    .dataframe thead th {\n",
              "        text-align: right;\n",
              "    }\n",
              "</style>\n",
              "<table border=\"1\" class=\"dataframe\">\n",
              "  <thead>\n",
              "    <tr style=\"text-align: right;\">\n",
              "      <th></th>\n",
              "      <th>Close</th>\n",
              "      <th>Predictions</th>\n",
              "    </tr>\n",
              "    <tr>\n",
              "      <th>Date</th>\n",
              "      <th></th>\n",
              "      <th></th>\n",
              "    </tr>\n",
              "  </thead>\n",
              "  <tbody>\n",
              "    <tr>\n",
              "      <th>2021-01-05 00:00:00-05:00</th>\n",
              "      <td>217.899994</td>\n",
              "      <td>214.700516</td>\n",
              "    </tr>\n",
              "    <tr>\n",
              "      <th>2021-01-06 00:00:00-05:00</th>\n",
              "      <td>212.250000</td>\n",
              "      <td>213.533203</td>\n",
              "    </tr>\n",
              "    <tr>\n",
              "      <th>2021-01-07 00:00:00-05:00</th>\n",
              "      <td>218.289993</td>\n",
              "      <td>209.822922</td>\n",
              "    </tr>\n",
              "    <tr>\n",
              "      <th>2021-01-08 00:00:00-05:00</th>\n",
              "      <td>219.619995</td>\n",
              "      <td>212.322601</td>\n",
              "    </tr>\n",
              "    <tr>\n",
              "      <th>2021-01-11 00:00:00-05:00</th>\n",
              "      <td>217.490005</td>\n",
              "      <td>215.150772</td>\n",
              "    </tr>\n",
              "    <tr>\n",
              "      <th>...</th>\n",
              "      <td>...</td>\n",
              "      <td>...</td>\n",
              "    </tr>\n",
              "    <tr>\n",
              "      <th>2021-12-27 00:00:00-05:00</th>\n",
              "      <td>342.450012</td>\n",
              "      <td>322.134949</td>\n",
              "    </tr>\n",
              "    <tr>\n",
              "      <th>2021-12-28 00:00:00-05:00</th>\n",
              "      <td>341.250000</td>\n",
              "      <td>327.716888</td>\n",
              "    </tr>\n",
              "    <tr>\n",
              "      <th>2021-12-29 00:00:00-05:00</th>\n",
              "      <td>341.950012</td>\n",
              "      <td>327.312439</td>\n",
              "    </tr>\n",
              "    <tr>\n",
              "      <th>2021-12-30 00:00:00-05:00</th>\n",
              "      <td>339.320007</td>\n",
              "      <td>326.581146</td>\n",
              "    </tr>\n",
              "    <tr>\n",
              "      <th>2021-12-31 00:00:00-05:00</th>\n",
              "      <td>336.320007</td>\n",
              "      <td>323.947357</td>\n",
              "    </tr>\n",
              "  </tbody>\n",
              "</table>\n",
              "<p>251 rows × 2 columns</p>\n",
              "</div>\n",
              "      <button class=\"colab-df-convert\" onclick=\"convertToInteractive('df-16687137-54b5-40f7-bea9-7f4db7e74ac7')\"\n",
              "              title=\"Convert this dataframe to an interactive table.\"\n",
              "              style=\"display:none;\">\n",
              "        \n",
              "  <svg xmlns=\"http://www.w3.org/2000/svg\" height=\"24px\"viewBox=\"0 0 24 24\"\n",
              "       width=\"24px\">\n",
              "    <path d=\"M0 0h24v24H0V0z\" fill=\"none\"/>\n",
              "    <path d=\"M18.56 5.44l.94 2.06.94-2.06 2.06-.94-2.06-.94-.94-2.06-.94 2.06-2.06.94zm-11 1L8.5 8.5l.94-2.06 2.06-.94-2.06-.94L8.5 2.5l-.94 2.06-2.06.94zm10 10l.94 2.06.94-2.06 2.06-.94-2.06-.94-.94-2.06-.94 2.06-2.06.94z\"/><path d=\"M17.41 7.96l-1.37-1.37c-.4-.4-.92-.59-1.43-.59-.52 0-1.04.2-1.43.59L10.3 9.45l-7.72 7.72c-.78.78-.78 2.05 0 2.83L4 21.41c.39.39.9.59 1.41.59.51 0 1.02-.2 1.41-.59l7.78-7.78 2.81-2.81c.8-.78.8-2.07 0-2.86zM5.41 20L4 18.59l7.72-7.72 1.47 1.35L5.41 20z\"/>\n",
              "  </svg>\n",
              "      </button>\n",
              "      \n",
              "  <style>\n",
              "    .colab-df-container {\n",
              "      display:flex;\n",
              "      flex-wrap:wrap;\n",
              "      gap: 12px;\n",
              "    }\n",
              "\n",
              "    .colab-df-convert {\n",
              "      background-color: #E8F0FE;\n",
              "      border: none;\n",
              "      border-radius: 50%;\n",
              "      cursor: pointer;\n",
              "      display: none;\n",
              "      fill: #1967D2;\n",
              "      height: 32px;\n",
              "      padding: 0 0 0 0;\n",
              "      width: 32px;\n",
              "    }\n",
              "\n",
              "    .colab-df-convert:hover {\n",
              "      background-color: #E2EBFA;\n",
              "      box-shadow: 0px 1px 2px rgba(60, 64, 67, 0.3), 0px 1px 3px 1px rgba(60, 64, 67, 0.15);\n",
              "      fill: #174EA6;\n",
              "    }\n",
              "\n",
              "    [theme=dark] .colab-df-convert {\n",
              "      background-color: #3B4455;\n",
              "      fill: #D2E3FC;\n",
              "    }\n",
              "\n",
              "    [theme=dark] .colab-df-convert:hover {\n",
              "      background-color: #434B5C;\n",
              "      box-shadow: 0px 1px 3px 1px rgba(0, 0, 0, 0.15);\n",
              "      filter: drop-shadow(0px 1px 2px rgba(0, 0, 0, 0.3));\n",
              "      fill: #FFFFFF;\n",
              "    }\n",
              "  </style>\n",
              "\n",
              "      <script>\n",
              "        const buttonEl =\n",
              "          document.querySelector('#df-16687137-54b5-40f7-bea9-7f4db7e74ac7 button.colab-df-convert');\n",
              "        buttonEl.style.display =\n",
              "          google.colab.kernel.accessAllowed ? 'block' : 'none';\n",
              "\n",
              "        async function convertToInteractive(key) {\n",
              "          const element = document.querySelector('#df-16687137-54b5-40f7-bea9-7f4db7e74ac7');\n",
              "          const dataTable =\n",
              "            await google.colab.kernel.invokeFunction('convertToInteractive',\n",
              "                                                     [key], {});\n",
              "          if (!dataTable) return;\n",
              "\n",
              "          const docLinkHtml = 'Like what you see? Visit the ' +\n",
              "            '<a target=\"_blank\" href=https://colab.research.google.com/notebooks/data_table.ipynb>data table notebook</a>'\n",
              "            + ' to learn more about interactive tables.';\n",
              "          element.innerHTML = '';\n",
              "          dataTable['output_type'] = 'display_data';\n",
              "          await google.colab.output.renderOutput(dataTable, element);\n",
              "          const docLink = document.createElement('div');\n",
              "          docLink.innerHTML = docLinkHtml;\n",
              "          element.appendChild(docLink);\n",
              "        }\n",
              "      </script>\n",
              "    </div>\n",
              "  </div>\n",
              "  "
            ]
          },
          "metadata": {},
          "execution_count": 28
        }
      ]
    },
    {
      "cell_type": "code",
      "source": [],
      "metadata": {
        "id": "AbHTpJwNDwHx"
      },
      "execution_count": null,
      "outputs": []
    }
  ]
}